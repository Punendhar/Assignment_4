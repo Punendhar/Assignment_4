{
 "cells": [
  {
   "cell_type": "markdown",
   "metadata": {},
   "source": [
    "Problem Statement 1:\n",
    "\n",
    "    Write a function so that the columns of the output matrix are powers of the input\n",
    "    vector.\n",
    "    The order of the powers is determined by the increasing boolean argument. Specifically,\n",
    "    when increasing is False, the i-th output column is the input vector raised element-wise\n",
    "    to the power of N - i - 1.\n",
    "\n",
    "    HINT: Such a matrix with a geometric progression in each row is named for Alexandre-Theophile Vandermonde."
   ]
  },
  {
   "cell_type": "code",
   "execution_count": 5,
   "metadata": {},
   "outputs": [],
   "source": [
    "def vander(x, N=None, increasing=False):\n",
    "    x = asarray(x)\n",
    "    if x.ndim != 1:\n",
    "        raise ValueError(\"x must be a one-dimensional array or sequence.\")\n",
    "    if N is None:\n",
    "        N = len(x)\n",
    "\n",
    "    v = empty((len(x), N), dtype=promote_types(x.dtype, int))\n",
    "    tmp = v[:, ::-1] if not increasing else v\n",
    "\n",
    "    if N > 0:\n",
    "        tmp[:, 0] = 1\n",
    "    if N > 1:\n",
    "        tmp[:, 1:] = x[:, None]\n",
    "        multiply.accumulate(tmp[:, 1:], out=tmp[:, 1:], axis=1)\n",
    "\n",
    "    return v"
   ]
  },
  {
   "cell_type": "code",
   "execution_count": 1,
   "metadata": {},
   "outputs": [
    {
     "data": {
      "text/plain": [
       "array([[ 1,  1,  1],\n",
       "       [ 4,  2,  1],\n",
       "       [ 9,  3,  1],\n",
       "       [25,  5,  1]])"
      ]
     },
     "execution_count": 1,
     "metadata": {},
     "output_type": "execute_result"
    }
   ],
   "source": [
    "import numpy as np\n",
    "x = np.array([1, 2, 3, 5])\n",
    "N = 3\n",
    "np.vander(x, N, increasing=False) #with increasing boolean as False"
   ]
  },
  {
   "cell_type": "code",
   "execution_count": 3,
   "metadata": {},
   "outputs": [
    {
     "data": {
      "text/plain": [
       "array([[1, 1],\n",
       "       [1, 2],\n",
       "       [1, 3],\n",
       "       [1, 5]])"
      ]
     },
     "execution_count": 3,
     "metadata": {},
     "output_type": "execute_result"
    }
   ],
   "source": [
    "np.vander(x,2, increasing=True) #with increasing boolean as True"
   ]
  }
 ],
 "metadata": {
  "kernelspec": {
   "display_name": "Python 3",
   "language": "python",
   "name": "python3"
  },
  "language_info": {
   "codemirror_mode": {
    "name": "ipython",
    "version": 3
   },
   "file_extension": ".py",
   "mimetype": "text/x-python",
   "name": "python",
   "nbconvert_exporter": "python",
   "pygments_lexer": "ipython3",
   "version": "3.7.1"
  }
 },
 "nbformat": 4,
 "nbformat_minor": 2
}
